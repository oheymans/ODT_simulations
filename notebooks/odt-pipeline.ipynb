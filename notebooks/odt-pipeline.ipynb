{
 "cells": [
  {
   "cell_type": "markdown",
   "id": "d6f3451e",
   "metadata": {},
   "source": [
    "# ODT - pipeline simulations\n",
    "\n",
    "This code simulates a whole ODT pipeline to demonstrate projection acquisition to phase unwrapping and reconstruction algorithms"
   ]
  },
  {
   "cell_type": "code",
   "execution_count": 2,
   "id": "0f01fd20",
   "metadata": {},
   "outputs": [
    {
     "name": "stdout",
     "output_type": "stream",
     "text": [
      "PyMaxflow not found, some functions will not be available.\n"
     ]
    }
   ],
   "source": [
    "import numpy as np\n",
    "import matplotlib.pyplot as plt\n",
    "import skimage as ski\n",
    "import math\n",
    "import sys, os\n",
    "import time\n",
    "import ctypes\n",
    "\n",
    "sys.path.append(os.path.abspath(\"..\")) \n",
    "from src.simulating_shapes.cylinder_phase import cylinder_phase_perp_to_z_3d\n",
    "from src.phase_unwrapping_methods.Ghilia.Ghilia import unwrap_phase_weighted\n",
    "from src.phase_unwrapping_methods.Ghilia.reliability import reliability_weight_map\n",
    "from src.helpers.noise import additive_noise\n",
    "from skimage.restoration import unwrap_phase\n",
    "from sklearn.metrics import root_mean_squared_error\n",
    "from src.helpers.rmse import evaluate_phase\n",
    "\n",
    "# Fix dtype compatibility (needed for Kamui)\n",
    "\n",
    "if not hasattr(np, \"float_\"): np.float_ = np.float64\n",
    "if not hasattr(np, \"int_\"): np.int_ = np.int64\n",
    "if not hasattr(np, \"bool_\"): np.bool_ = bool\n",
    "\n",
    "from kamui import unwrap_dimensional \n",
    "from scipy.fftpack import dctn, idctn\n",
    "\n",
    "# -------------------------------------------------------------------\n",
    "# Load the OpenMP .so you compiled\n",
    "# -------------------------------------------------------------------\n",
    "os.environ[\"OMP_NUM_THREADS\"] = \"32\"  # Adjust based on your CPU\n",
    "lib = ctypes.cdll.LoadLibrary(\"../src/phase_unwrapping_methods/ARM_parallel/code/libarm_openmp.so\")\n",
    "\n",
    "# Define the signature of unwrap_phase_ARM\n",
    "lib.unwrap_phase_ARM.argtypes = [\n",
    "    ctypes.POINTER(ctypes.c_double),  # wrapped\n",
    "    ctypes.POINTER(ctypes.c_double),  # unwrapped\n",
    "    ctypes.POINTER(ctypes.c_double),  # mask\n",
    "    ctypes.POINTER(ctypes.c_double),  # iW\n",
    "    ctypes.POINTER(ctypes.c_double),  # jW\n",
    "    ctypes.c_int, ctypes.c_int,       # rows, cols\n",
    "    ctypes.c_double, ctypes.c_double, # mu, lambda\n",
    "    ctypes.c_int, ctypes.c_int        # numIter, ban_OmegaInit\n",
    "]\n",
    "lib.unwrap_phase_ARM.restype = None\n",
    "\n",
    "# -------------------------------------------------------------------\n",
    "# ARM unwrap helper\n",
    "# -------------------------------------------------------------------\n",
    "def arm_unwrap(arr, mu=1.0, lam=0.01, iters=100000,omega_init=1):\n",
    "    H, W = arr.shape\n",
    "    arr = np.ascontiguousarray(arr, dtype=np.float64)\n",
    "\n",
    "    mask = np.ones_like(arr, dtype=np.float64)\n",
    "    iW   = np.ones_like(arr, dtype=np.float64)\n",
    "    jW   = np.ones_like(arr, dtype=np.float64)\n",
    "    out  = np.zeros_like(arr, dtype=np.float64)\n",
    "\n",
    "    lib.unwrap_phase_ARM(\n",
    "        arr.ctypes.data_as(ctypes.POINTER(ctypes.c_double)),\n",
    "        out.ctypes.data_as(ctypes.POINTER(ctypes.c_double)),\n",
    "        mask.ctypes.data_as(ctypes.POINTER(ctypes.c_double)),\n",
    "        iW.ctypes.data_as(ctypes.POINTER(ctypes.c_double)),\n",
    "        jW.ctypes.data_as(ctypes.POINTER(ctypes.c_double)),\n",
    "        H, W,\n",
    "        mu, lam, iters, omega_init\n",
    "    )\n",
    "    return out\n",
    "\n",
    "# Optics\n",
    "lam   = 0.532     # wavelength (µm)"
   ]
  },
  {
   "cell_type": "markdown",
   "id": "dcb437bd",
   "metadata": {},
   "source": [
    "We now generate the shape that we would like to explore. We would start with a 3D elipsoide"
   ]
  },
  {
   "cell_type": "code",
   "execution_count": 24,
   "id": "faa52b2d",
   "metadata": {},
   "outputs": [],
   "source": [
    "n_obj = 1.38                                # Refractive index of the object\n",
    "n_med = 1.33                                # Refractive index of the medium\n",
    "nproj = 128                                 # Number of projections\n",
    "L = 10e-3                                   # 10 mm object field of view\n",
    "N = 250                                     # number of pixels of the object\n",
    "a = 2.5e-3\n",
    "b = 3e-3  \n",
    "c = 4.5e-3                                  # axes of the elliptical cylinder\n",
    "height = 5e-3                               # cylinder height along z\n",
    "rho = 1000                         # contrast\n",
    "wavelength = 532e-9                         # Wavelength [m]\n",
    "\n",
    "#--------------------------------------------------\n",
    "# Grid - real coordinates and fourier space\n",
    "#--------------------------------------------------\n",
    "\n",
    "deltax = L/N\n",
    "x = deltax * np.linspace(-N/2, (N/2)-1, N)\n",
    "y = x.copy()\n",
    "z = np.linspace(-height/2, height/2, N)\n",
    "fx=np.linspace(-1/2/deltax, 1/2/deltax-1/L, N)\n",
    "X, Y, Z = np.meshgrid(x, y, z, indexing='ij')\n",
    "Fx, Fy, Fz = np.meshgrid(fx, fx, fx, indexing='ij')\n",
    "\n",
    "# --------------------------------------------------\n",
    "# 3D Object: finite elipsoide and its FT\n",
    "# --------------------------------------------------\n",
    "mask = ((X/a)**2 + (Y/b)**2  + (Z/c) ** 2 <= 1) \n",
    "object3D = rho * mask.astype(float)\n",
    "\n",
    "object3DFT = np.zeros((N, N, N), dtype=complex)\n",
    "\n",
    "for i in range(N):\n",
    "    object3DFT[:, :, i] = np.fft.fftshift(\n",
    "        np.fft.fft2(np.fft.fftshift(object3D[:, :, i]))\n",
    "    ) * (deltax**2)\n"
   ]
  },
  {
   "cell_type": "markdown",
   "id": "ca78e2c8",
   "metadata": {},
   "source": [
    "We will now generate the projections with different noise levels"
   ]
  },
  {
   "cell_type": "code",
   "execution_count": 25,
   "id": "e3ed7297",
   "metadata": {},
   "outputs": [],
   "source": [
    "# Dictionary to store projections for each noise level\n",
    "projections_dict = {}\n",
    "\n",
    "for noise_std in noise_levels:\n",
    "    # Generate clean projections\n",
    "    projections_2D, projections_2D_FT, sinogram3D, angles = create_projections(nproj)\n",
    "    \n",
    "    # Wrap clean projections\n",
    "    wrapped_clean = np.angle(np.exp(1j * projections_2D))\n",
    "    \n",
    "    # Add noise to the wrapped phase\n",
    "    noisy_wrapped_projections_2D = wrapped_clean + additive_noise(np.zeros_like(wrapped_clean), noise_std, enabled=True)\n",
    "    \n",
    "    # Ensure it stays within [-π, π]\n",
    "    noisy_wrapped_projections_2D = np.angle(np.exp(1j * noisy_wrapped_projections_2D))\n",
    "    \n",
    "    # Save in dictionary\n",
    "    projections_dict[noise_std] = {\n",
    "        \"wrapped_projections_2D\": noisy_wrapped_projections_2D,\n",
    "        \"angles\": angles,\n",
    "        \"clean_wrapped_projections_2D\": wrapped_clean,  # for ground truth comparisons\n",
    "    }\n"
   ]
  },
  {
   "cell_type": "markdown",
   "id": "313aa525",
   "metadata": {},
   "source": [
    "Now that we generated the \"raw data\" we can start full reconstruction. We will begin by demonstarting phase unwrapping algorithms"
   ]
  },
  {
   "cell_type": "code",
   "execution_count": 26,
   "id": "51efbca2",
   "metadata": {},
   "outputs": [
    {
     "ename": "KeyError",
     "evalue": "'noisy_projections_2D'",
     "output_type": "error",
     "traceback": [
      "\u001b[31m---------------------------------------------------------------------------\u001b[39m",
      "\u001b[31mKeyError\u001b[39m                                  Traceback (most recent call last)",
      "\u001b[36mCell\u001b[39m\u001b[36m \u001b[39m\u001b[32mIn[26]\u001b[39m\u001b[32m, line 29\u001b[39m\n\u001b[32m     26\u001b[39m \u001b[38;5;66;03m# Loop over noise levels\u001b[39;00m\n\u001b[32m     27\u001b[39m \u001b[38;5;28;01mfor\u001b[39;00m i, noise_std \u001b[38;5;129;01min\u001b[39;00m \u001b[38;5;28menumerate\u001b[39m(noise_levels):\n\u001b[32m     28\u001b[39m     \u001b[38;5;66;03m# Ground truth\u001b[39;00m\n\u001b[32m---> \u001b[39m\u001b[32m29\u001b[39m     gt_proj = \u001b[43mprojections_dict\u001b[49m\u001b[43m[\u001b[49m\u001b[32;43m0\u001b[39;49m\u001b[43m]\u001b[49m\u001b[43m[\u001b[49m\u001b[33;43m\"\u001b[39;49m\u001b[33;43mnoisy_projections_2D\u001b[39;49m\u001b[33;43m\"\u001b[39;49m\u001b[43m]\u001b[49m[proj_idx]  \u001b[38;5;66;03m# noise=0 as ground truth\u001b[39;00m\n\u001b[32m     30\u001b[39m     im0 = axs[\u001b[32m0\u001b[39m, i].imshow(gt_proj, cmap=\u001b[33m'\u001b[39m\u001b[33mjet\u001b[39m\u001b[33m'\u001b[39m, extent=[z[\u001b[32m0\u001b[39m]*\u001b[32m1e3\u001b[39m, z[-\u001b[32m1\u001b[39m]*\u001b[32m1e3\u001b[39m, y[\u001b[32m0\u001b[39m]*\u001b[32m1e3\u001b[39m, y[-\u001b[32m1\u001b[39m]*\u001b[32m1e3\u001b[39m])\n\u001b[32m     31\u001b[39m     axs[\u001b[32m0\u001b[39m, i].set_title(\u001b[33mf\u001b[39m\u001b[33m\"\u001b[39m\u001b[33mGT | Noise=\u001b[39m\u001b[38;5;132;01m{\u001b[39;00mnoise_std\u001b[38;5;132;01m:\u001b[39;00m\u001b[33m.2e\u001b[39m\u001b[38;5;132;01m}\u001b[39;00m\u001b[33m\"\u001b[39m)\n",
      "\u001b[31mKeyError\u001b[39m: 'noisy_projections_2D'"
     ]
    },
    {
     "data": {
      "image/png": "[encoded data removed]",
      "text/plain": [
       "<Figure size 2000x1200 with 12 Axes>"
      ]
     },
     "metadata": {},
     "output_type": "display_data"
    }
   ],
   "source": [
    "# Dictionary to store unwrapped projections by noise and angle\n",
    "unwrapped_projections_dict = {}\n",
    "\n",
    "# Select a few projections to visualize (indices)\n",
    "visualize_indices = [0, nproj//4, nproj//2, 3*nproj//4]\n",
    "\n",
    "# Unwrap projections and store keyed by noise level and angle\n",
    "for noise_std, data in projections_dict.items():\n",
    "    wrapped_projections_2D = data[\"wrapped_projections_2D\"]\n",
    "    angles = data[\"angles\"]\n",
    "    \n",
    "    for proj_idx, angle in enumerate(angles):\n",
    "        # Unwrap the projection\n",
    "        unwrapped_proj = unwrap_dimensional(wrapped_projections_2D[proj_idx])\n",
    "        \n",
    "        # Store keyed by noise level and angle\n",
    "        unwrapped_projections_dict[(noise_std, angle)] = unwrapped_proj\n",
    "\n",
    "# Visualization: show selected projections across all noise levels\n",
    "for proj_idx in visualize_indices:\n",
    "    angle = angles[proj_idx]  # angle of this projection\n",
    "    n_noise = len(noise_levels)\n",
    "    \n",
    "    fig, axs = plt.subplots(3, n_noise, figsize=(5*n_noise, 12))\n",
    "    \n",
    "    # Loop over noise levels\n",
    "    for i, noise_std in enumerate(noise_levels):\n",
    "        # Ground truth\n",
    "        gt_proj = projections_dict[0][\"noisy_projections_2D\"][proj_idx]  # noise=0 as ground truth\n",
    "        im0 = axs[0, i].imshow(gt_proj, cmap='jet', extent=[z[0]*1e3, z[-1]*1e3, y[0]*1e3, y[-1]*1e3])\n",
    "        axs[0, i].set_title(f\"GT | Noise={noise_std:.2e}\")\n",
    "        axs[0, i].set_xlabel(\"z (mm)\")\n",
    "        axs[0, i].set_ylabel(\"y (mm)\")\n",
    "        fig.colorbar(im0, ax=axs[0, i], fraction=0.046, pad=0.04)\n",
    "        \n",
    "        # Unwrapped projection\n",
    "        unwrapped_proj = unwrapped_projections_dict[(noise_std, angle)]\n",
    "        im1 = axs[1, i].imshow(unwrapped_proj, cmap='jet', extent=[z[0]*1e3, z[-1]*1e3, y[0]*1e3, y[-1]*1e3])\n",
    "        axs[1, i].set_title(f\"Unwrapped | Noise={noise_std:.2e}\")\n",
    "        axs[1, i].set_xlabel(\"z (mm)\")\n",
    "        axs[1, i].set_ylabel(\"y (mm)\")\n",
    "        fig.colorbar(im1, ax=axs[1, i], fraction=0.046, pad=0.04)\n",
    "        \n",
    "        # Error (unwrapped - ground truth)\n",
    "        error_proj = unwrapped_proj - gt_proj\n",
    "        im2 = axs[2, i].imshow(error_proj, cmap='bwr', \n",
    "                               vmin=-np.max(np.abs(error_proj)), vmax=np.max(np.abs(error_proj)),\n",
    "                               extent=[z[0]*1e3, z[-1]*1e3, y[0]*1e3, y[-1]*1e3])\n",
    "        axs[2, i].set_title(f\"Error | Noise={noise_std:.2e}\")\n",
    "        axs[2, i].set_xlabel(\"z (mm)\")\n",
    "        axs[2, i].set_ylabel(\"y (mm)\")\n",
    "        fig.colorbar(im2, ax=axs[2, i], fraction=0.046, pad=0.04)\n",
    "    \n",
    "    plt.suptitle(f\"Projection Comparison | Angle = {angle:.1f}°\", fontsize=16)\n",
    "    plt.tight_layout()\n",
    "    plt.show()\n"
   ]
  },
  {
   "cell_type": "code",
   "execution_count": null,
   "id": "7251cf3a",
   "metadata": {},
   "outputs": [],
   "source": []
  }
 ],
 "metadata": {
  "kernelspec": {
   "display_name": "env",
   "language": "python",
   "name": "python3"
  },
  "language_info": {
   "codemirror_mode": {
    "name": "ipython",
    "version": 3
   },
   "file_extension": ".py",
   "mimetype": "text/x-python",
   "name": "python",
   "nbconvert_exporter": "python",
   "pygments_lexer": "ipython3",
   "version": "3.12.3"
  }
 },
 "nbformat": 4,
 "nbformat_minor": 5
}
